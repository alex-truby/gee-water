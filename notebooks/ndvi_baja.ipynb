{
 "cells": [
  {
   "cell_type": "markdown",
   "metadata": {},
   "source": [
    "# NOTE:\n",
    "You will need to have installed the Google Cloud SDK and a project set up to run this work flow interactively. Instructions on how to set up the Google Cloud SDK are [here](https://cloud.google.com/sdk/docs/install)."
   ]
  },
  {
   "cell_type": "code",
   "execution_count": 1,
   "metadata": {},
   "outputs": [],
   "source": [
    "# pip install --upgrade nbformat\n"
   ]
  },
  {
   "cell_type": "code",
   "execution_count": 2,
   "metadata": {},
   "outputs": [],
   "source": [
    "# from io import StringIO\n",
    "import ee\n"
   ]
  },
  {
   "cell_type": "code",
   "execution_count": 3,
   "metadata": {},
   "outputs": [],
   "source": [
    "ee.Initialize()"
   ]
  },
  {
   "cell_type": "code",
   "execution_count": 4,
   "metadata": {},
   "outputs": [],
   "source": [
    "# from gee_water import utils\n",
    "# from gee_water.utils import mask"
   ]
  },
  {
   "cell_type": "code",
   "execution_count": 5,
   "metadata": {},
   "outputs": [],
   "source": [
    "# import gee_water\n",
    "from gee_water.utils import (\n",
    "    mask_hls_l30_cloud_shadow,\n",
    "    add_ndvi_l30,\n",
    "    create_monthly_composites,\n",
    "    get_time_series\n",
    ")"
   ]
  },
  {
   "cell_type": "markdown",
   "metadata": {},
   "source": [
    "# README\n",
    "The purpose of this notebook is to do some exploratory work on NDVI for regions in Southern Baja for a blog post exploring water resources in the area.\n",
    "The focus region for this project will be Baja California Sur, near the southern most tip of the peninsula in the La Paz - Cabo - Todos Santos triangle."
   ]
  },
  {
   "cell_type": "markdown",
   "metadata": {},
   "source": [
    "## Define Region of Interest"
   ]
  },
  {
   "cell_type": "code",
   "execution_count": 6,
   "metadata": {},
   "outputs": [],
   "source": [
    "# Coordinates for La Paz, BCS\n",
    "la_paz_coords = ee.Geometry.Point([-110.3166667, 24.1422222])\n",
    "buffer_distance_meters = 75 * 1609.34  # 75 miles in meters\n",
    "roi = la_paz_coords.buffer(buffer_distance_meters)"
   ]
  },
  {
   "cell_type": "markdown",
   "metadata": {},
   "source": [
    "# Run NDVI Analysis Using HLS GEE Data Set"
   ]
  },
  {
   "cell_type": "code",
   "execution_count": 7,
   "metadata": {},
   "outputs": [],
   "source": [
    "# For this particular blog, I am analyzing multiple datasets from a handful of different \n",
    "# satellites. The year 2013 is far enough back historically to capture form trends, but still \n",
    "# allows for higih quality data to be gathred for all my metrics of interest.\n",
    "start_date = '2013-01-01'\n",
    "end_date   = '2023-12-31'\n"
   ]
  },
  {
   "cell_type": "code",
   "execution_count": 8,
   "metadata": {},
   "outputs": [],
   "source": [
    "hls_l30_with_ndvi = (\n",
    "    ee.ImageCollection('NASA/HLS/HLSL30/v002')\n",
    "    .filterDate(start_date, end_date)\n",
    "    .filterBounds(roi)\n",
    "    .map(mask_hls_l30_cloud_shadow)\n",
    "    .map(add_ndvi_l30)\n",
    ")\n"
   ]
  },
  {
   "cell_type": "code",
   "execution_count": 9,
   "metadata": {},
   "outputs": [],
   "source": [
    "# create composites\n",
    "hls_l30_ndvi_monthly = create_monthly_composites(hls_l30_with_ndvi)"
   ]
  },
  {
   "cell_type": "code",
   "execution_count": 10,
   "metadata": {},
   "outputs": [],
   "source": [
    "# create time series data from the monthly composites\n",
    "hls_l30_ndvi_timeseries = get_time_series(hls_l30_ndvi_monthly, 'NDVI', roi)"
   ]
  },
  {
   "cell_type": "code",
   "execution_count": 11,
   "metadata": {},
   "outputs": [],
   "source": [
    "import numpy as np\n",
    "import pandas as pd\n",
    "import plotly.graph_objects as go\n",
    "from plotly.subplots import make_subplots\n",
    "from datetime import timedelta"
   ]
  },
  {
   "cell_type": "code",
   "execution_count": 24,
   "metadata": {},
   "outputs": [],
   "source": [
    "import numpy as np\n",
    "import pandas as pd\n",
    "import plotly.graph_objects as go\n",
    "\n",
    "def plot_multiple_timeseries_with_trendlines_plotly(\n",
    "    df_list,\n",
    "    date_col='date',\n",
    "    value_col='value',\n",
    "    labels=None,\n",
    "    x_interval_months=6,\n",
    "    title='Time Series Comparison',\n",
    "    ylabel='Value (units)'\n",
    "):\n",
    "    \"\"\"\n",
    "    Plots multiple time series (date vs. value) with linear trend lines in a single Plotly figure.\n",
    "    Uses \"days since earliest global date\" as the x-values for linear regression, \n",
    "    which avoids extremely large timestamp numbers in nanoseconds.\n",
    "\n",
    "    Args:\n",
    "        df_list (list of pd.DataFrame):\n",
    "            A list of DataFrames, each with a date column and a value column.\n",
    "        date_col (str):\n",
    "            Name of the column containing dates in each DataFrame.\n",
    "        value_col (str):\n",
    "            Name of the column containing the value to be plotted.\n",
    "        labels (list of str or None):\n",
    "            Legend labels for each DataFrame. If None, uses generic labels.\n",
    "        x_interval_months (int):\n",
    "            Interval (in months) for major x-axis ticks. Default=6 => tick every 6 months.\n",
    "        title (str):\n",
    "            Title of the plot.\n",
    "        ylabel (str):\n",
    "            Y-axis label.\n",
    "\n",
    "    Returns:\n",
    "        plotly.graph_objects.Figure:\n",
    "            A Plotly figure object that can be displayed using fig.show().\n",
    "    \"\"\"\n",
    "\n",
    "    # If no labels are given, assign default ones\n",
    "    if labels is None:\n",
    "        labels = [f\"Dataset {i}\" for i in range(len(df_list))]\n",
    "    elif len(labels) != len(df_list):\n",
    "        raise ValueError(\"Length of `labels` must match length of `df_list`.\")\n",
    "\n",
    "    # 1. Find a global earliest date among all DataFrames\n",
    "    global_earliest_date = min(df[date_col].min() for df in df_list)\n",
    "\n",
    "    # Create a Plotly figure\n",
    "    fig = go.Figure()\n",
    "\n",
    "    # 2. Generate each time series + trend lines\n",
    "    for i, df in enumerate(df_list):\n",
    "        # Sort by date just in case\n",
    "        df_sorted = df.sort_values(by=date_col).reset_index(drop=True)\n",
    "\n",
    "        # Calculate \"days since global earliest date\" for slope-fitting\n",
    "        df_sorted['days_since_start'] = (\n",
    "            df_sorted[date_col] - global_earliest_date\n",
    "        ).dt.days\n",
    "\n",
    "        # x-values for plotting (actual dates) vs. x-values for slope-fitting (days_since_start)\n",
    "        x_dates = df_sorted[date_col]\n",
    "        x_days = df_sorted['days_since_start']\n",
    "        y_vals = df_sorted[value_col]\n",
    "\n",
    "        # Plot the main time series\n",
    "        fig.add_trace(\n",
    "            go.Scatter(\n",
    "                x=x_dates,\n",
    "                y=y_vals,\n",
    "                mode='lines',\n",
    "                name=labels[i]\n",
    "            )\n",
    "        )\n",
    "\n",
    "        # Compute trend (slope) per day via np.polyfit\n",
    "        coeffs = np.polyfit(x_days, y_vals, 1)  # linear fit\n",
    "        slope_per_day, intercept = coeffs[0], coeffs[1]\n",
    "\n",
    "        # Evaluate the linear model at each x_days\n",
    "        trend_line_y = intercept + slope_per_day * x_days\n",
    "\n",
    "        # Convert slope to \"units per year\"\n",
    "        slope_per_year = slope_per_day * 365.25\n",
    "\n",
    "        # Plot the trend line\n",
    "        fig.add_trace(\n",
    "            go.Scatter(\n",
    "                x=x_dates,  # still plot trend line against real dates\n",
    "                y=trend_line_y,\n",
    "                mode='lines',\n",
    "                line=dict(dash='dash'),\n",
    "                name=f\"{labels[i]} Trend (slope={slope_per_year:.5f}/yr)\"\n",
    "            )\n",
    "        )\n",
    "\n",
    "    # 3. Format the x-axis ticks and other layout details\n",
    "    # Tick every x_interval_months months\n",
    "    dtick_str = f\"M{x_interval_months}\"\n",
    "\n",
    "    fig.update_layout(\n",
    "        title=title,\n",
    "        xaxis=dict(\n",
    "            title='Date',\n",
    "            dtick=dtick_str,\n",
    "            tickformat='%Y-%m'\n",
    "        ),\n",
    "        yaxis=dict(\n",
    "            title=ylabel\n",
    "        ),\n",
    "        legend=dict(\n",
    "            x=0.01,\n",
    "            y=0.99\n",
    "        ),\n",
    "        margin=dict(l=60, r=40, t=60, b=60)\n",
    "    )\n",
    "\n",
    "    return fig\n"
   ]
  },
  {
   "cell_type": "code",
   "execution_count": 26,
   "metadata": {},
   "outputs": [
    {
     "data": {
      "application/vnd.plotly.v1+json": {
       "config": {
        "plotlyServerURL": "https://plot.ly"
       },
       "data": [
        {
         "mode": "lines",
         "name": "HLS NDVI",
         "type": "scatter",
         "x": [
          "2013-04-01T00:00:00",
          "2013-05-01T00:00:00",
          "2013-06-01T00:00:00",
          "2013-07-01T00:00:00",
          "2013-08-01T00:00:00",
          "2013-09-01T00:00:00",
          "2013-10-01T00:00:00",
          "2013-11-01T00:00:00",
          "2013-12-01T00:00:00",
          "2014-01-01T00:00:00",
          "2014-02-01T00:00:00",
          "2014-03-01T00:00:00",
          "2014-04-01T00:00:00",
          "2014-05-01T00:00:00",
          "2014-06-01T00:00:00",
          "2014-07-01T00:00:00",
          "2014-08-01T00:00:00",
          "2014-09-01T00:00:00",
          "2014-10-01T00:00:00",
          "2014-11-01T00:00:00",
          "2014-12-01T00:00:00",
          "2015-01-01T00:00:00",
          "2015-02-01T00:00:00",
          "2015-03-01T00:00:00",
          "2015-04-01T00:00:00",
          "2015-05-01T00:00:00",
          "2015-06-01T00:00:00",
          "2015-07-01T00:00:00",
          "2015-08-01T00:00:00",
          "2015-09-01T00:00:00",
          "2015-10-01T00:00:00",
          "2015-11-01T00:00:00",
          "2015-12-01T00:00:00",
          "2016-01-01T00:00:00",
          "2016-02-01T00:00:00",
          "2016-03-01T00:00:00",
          "2016-04-01T00:00:00",
          "2016-05-01T00:00:00",
          "2016-06-01T00:00:00",
          "2016-07-01T00:00:00",
          "2016-08-01T00:00:00",
          "2016-09-01T00:00:00",
          "2016-10-01T00:00:00",
          "2016-11-01T00:00:00",
          "2016-12-01T00:00:00",
          "2017-01-01T00:00:00",
          "2017-02-01T00:00:00",
          "2017-03-01T00:00:00",
          "2017-04-01T00:00:00",
          "2017-05-01T00:00:00",
          "2017-06-01T00:00:00",
          "2017-07-01T00:00:00",
          "2017-08-01T00:00:00",
          "2017-09-01T00:00:00",
          "2017-10-01T00:00:00",
          "2017-11-01T00:00:00",
          "2017-12-01T00:00:00",
          "2018-01-01T00:00:00",
          "2018-02-01T00:00:00",
          "2018-03-01T00:00:00",
          "2018-04-01T00:00:00",
          "2018-05-01T00:00:00",
          "2018-06-01T00:00:00",
          "2018-07-01T00:00:00",
          "2018-08-01T00:00:00",
          "2018-09-01T00:00:00",
          "2018-10-01T00:00:00",
          "2018-11-01T00:00:00",
          "2018-12-01T00:00:00",
          "2019-01-01T00:00:00",
          "2019-02-01T00:00:00",
          "2019-03-01T00:00:00",
          "2019-04-01T00:00:00",
          "2019-05-01T00:00:00",
          "2019-06-01T00:00:00",
          "2019-07-01T00:00:00",
          "2019-08-01T00:00:00",
          "2019-09-01T00:00:00",
          "2019-10-01T00:00:00",
          "2019-11-01T00:00:00",
          "2019-12-01T00:00:00",
          "2020-01-01T00:00:00",
          "2020-02-01T00:00:00",
          "2020-03-01T00:00:00",
          "2020-04-01T00:00:00",
          "2020-05-01T00:00:00",
          "2020-06-01T00:00:00",
          "2020-07-01T00:00:00",
          "2020-08-01T00:00:00",
          "2020-09-01T00:00:00",
          "2020-10-01T00:00:00",
          "2020-11-01T00:00:00",
          "2020-12-01T00:00:00",
          "2021-01-01T00:00:00",
          "2021-02-01T00:00:00",
          "2021-03-01T00:00:00",
          "2021-04-01T00:00:00",
          "2021-05-01T00:00:00",
          "2021-06-01T00:00:00",
          "2021-07-01T00:00:00",
          "2021-08-01T00:00:00",
          "2021-09-01T00:00:00",
          "2021-10-01T00:00:00",
          "2021-11-01T00:00:00",
          "2021-12-01T00:00:00",
          "2022-01-01T00:00:00",
          "2022-02-01T00:00:00",
          "2022-03-01T00:00:00",
          "2022-04-01T00:00:00",
          "2022-05-01T00:00:00",
          "2022-06-01T00:00:00",
          "2022-07-01T00:00:00",
          "2022-08-01T00:00:00",
          "2022-09-01T00:00:00",
          "2022-10-01T00:00:00",
          "2022-11-01T00:00:00",
          "2022-12-01T00:00:00",
          "2023-01-01T00:00:00",
          "2023-02-01T00:00:00",
          "2023-03-01T00:00:00",
          "2023-04-01T00:00:00",
          "2023-05-01T00:00:00",
          "2023-06-01T00:00:00",
          "2023-07-01T00:00:00",
          "2023-08-01T00:00:00",
          "2023-09-01T00:00:00",
          "2023-10-01T00:00:00",
          "2023-11-01T00:00:00",
          "2023-12-01T00:00:00"
         ],
         "y": [
          0.1827167930026996,
          0.091146582268932,
          0.19986315739609178,
          0.14470605787797328,
          0.42091437366814954,
          0.20292893231543693,
          0.35944790466426707,
          0.14604832301908954,
          -0.08205559845997021,
          -0.2608641543261334,
          -0.10463067055718565,
          -0.08614026552434027,
          0.1114890904748194,
          0.06710973021050481,
          0.17295176779207966,
          0.22542315255449605,
          0.12958144783904646,
          0.5690904281511492,
          -0.04126635132016258,
          -0.14796723747431337,
          0.1264366660802281,
          -0.22561157460175782,
          0.13557679415459525,
          -0.05444873401969491,
          0.04699541078766096,
          0.1319584340921126,
          0.17554129413126682,
          0.1357145342203772,
          0.2004179769455174,
          0.07777068814104934,
          0.06444974118972976,
          0.0008733943939309347,
          0.07594998681314157,
          -0.1652151738661142,
          0.161900177118459,
          -0.15983486135493175,
          0.13806769303481442,
          0.25954800022535024,
          -0.013474151672979648,
          0.0984606604833268,
          0.17274951877066774,
          0.13247724990507953,
          0.381219761948707,
          0.3851055577252049,
          -0.12128864465128632,
          -0.2248922281075791,
          -0.30537862829000095,
          0.006622409380418073,
          0.21245091925495152,
          0.12248442531670578,
          0.15032786918506802,
          0.2101487256149721,
          0.05439789523271946,
          -0.08813827025234229,
          -0.1361889007585571,
          -0.1789020144531749,
          0.06914103908297731,
          -0.21038178333903057,
          -0.09597887432939554,
          0.2544826906331789,
          0.00944107974302151,
          0.05620137803945363,
          0.16755270092046237,
          0.18458084681887016,
          -0.12573590518695196,
          0.03746310152800713,
          0.05617720453346763,
          0.2098858297851229,
          0.16992923137237737,
          -0.2723120219925599,
          -0.11963178159842622,
          0.0057523522443928546,
          0.1754905009513899,
          0.1496283746762991,
          0.07821049783806679,
          0.22054234169219597,
          0.21907142989478673,
          -0.031111306537344625,
          0.10781339166891736,
          0.053585707342318566,
          0.08715372695959663,
          0.07829996597090627,
          0.13837282470682963,
          0.20762182256399586,
          0.12328009708585247,
          0.14901225061185755,
          0.11335630640379357,
          0.05318199049502334,
          0.3517676256703505,
          0.2094526174891763,
          -0.009707509210097033,
          -0.37331879699725146,
          0.18880909220239275,
          0.16456191747579257,
          -0.243943197211515,
          0.0880828094453535,
          0.10735678649878547,
          0.06307319914821818,
          0.1266352702534809,
          0.28442877875630396,
          0.10262905955459278,
          0.24507609727876595,
          -0.23839326986363268,
          -0.23182884825189298,
          -0.0856688465114198,
          0.055269378868123206,
          -0.22066977720571743,
          -0.13648329486548647,
          0.08758933892780923,
          0.03174430973876372,
          0.040012849096191565,
          0.21231721812297485,
          0.13079908720197655,
          -0.02466330213445612,
          0.13497263286283928,
          -0.0733382042919681,
          -0.13131691920002384,
          -0.09277977948230783,
          0.0673682613370401,
          -0.047806606527006704,
          0.12442540517577193,
          0.13571600024759353,
          0.2490699040896726,
          0.25382977380075805,
          -0.028325322459935572,
          0.11974415141082691,
          0.14594406161314874,
          0.03907239130852127,
          -0.08015702240344473
         ]
        },
        {
         "line": {
          "dash": "dash"
         },
         "mode": "lines",
         "name": "HLS NDVI Trend (slope=-0.00557/yr)",
         "type": "scatter",
         "x": [
          "2013-04-01T00:00:00",
          "2013-05-01T00:00:00",
          "2013-06-01T00:00:00",
          "2013-07-01T00:00:00",
          "2013-08-01T00:00:00",
          "2013-09-01T00:00:00",
          "2013-10-01T00:00:00",
          "2013-11-01T00:00:00",
          "2013-12-01T00:00:00",
          "2014-01-01T00:00:00",
          "2014-02-01T00:00:00",
          "2014-03-01T00:00:00",
          "2014-04-01T00:00:00",
          "2014-05-01T00:00:00",
          "2014-06-01T00:00:00",
          "2014-07-01T00:00:00",
          "2014-08-01T00:00:00",
          "2014-09-01T00:00:00",
          "2014-10-01T00:00:00",
          "2014-11-01T00:00:00",
          "2014-12-01T00:00:00",
          "2015-01-01T00:00:00",
          "2015-02-01T00:00:00",
          "2015-03-01T00:00:00",
          "2015-04-01T00:00:00",
          "2015-05-01T00:00:00",
          "2015-06-01T00:00:00",
          "2015-07-01T00:00:00",
          "2015-08-01T00:00:00",
          "2015-09-01T00:00:00",
          "2015-10-01T00:00:00",
          "2015-11-01T00:00:00",
          "2015-12-01T00:00:00",
          "2016-01-01T00:00:00",
          "2016-02-01T00:00:00",
          "2016-03-01T00:00:00",
          "2016-04-01T00:00:00",
          "2016-05-01T00:00:00",
          "2016-06-01T00:00:00",
          "2016-07-01T00:00:00",
          "2016-08-01T00:00:00",
          "2016-09-01T00:00:00",
          "2016-10-01T00:00:00",
          "2016-11-01T00:00:00",
          "2016-12-01T00:00:00",
          "2017-01-01T00:00:00",
          "2017-02-01T00:00:00",
          "2017-03-01T00:00:00",
          "2017-04-01T00:00:00",
          "2017-05-01T00:00:00",
          "2017-06-01T00:00:00",
          "2017-07-01T00:00:00",
          "2017-08-01T00:00:00",
          "2017-09-01T00:00:00",
          "2017-10-01T00:00:00",
          "2017-11-01T00:00:00",
          "2017-12-01T00:00:00",
          "2018-01-01T00:00:00",
          "2018-02-01T00:00:00",
          "2018-03-01T00:00:00",
          "2018-04-01T00:00:00",
          "2018-05-01T00:00:00",
          "2018-06-01T00:00:00",
          "2018-07-01T00:00:00",
          "2018-08-01T00:00:00",
          "2018-09-01T00:00:00",
          "2018-10-01T00:00:00",
          "2018-11-01T00:00:00",
          "2018-12-01T00:00:00",
          "2019-01-01T00:00:00",
          "2019-02-01T00:00:00",
          "2019-03-01T00:00:00",
          "2019-04-01T00:00:00",
          "2019-05-01T00:00:00",
          "2019-06-01T00:00:00",
          "2019-07-01T00:00:00",
          "2019-08-01T00:00:00",
          "2019-09-01T00:00:00",
          "2019-10-01T00:00:00",
          "2019-11-01T00:00:00",
          "2019-12-01T00:00:00",
          "2020-01-01T00:00:00",
          "2020-02-01T00:00:00",
          "2020-03-01T00:00:00",
          "2020-04-01T00:00:00",
          "2020-05-01T00:00:00",
          "2020-06-01T00:00:00",
          "2020-07-01T00:00:00",
          "2020-08-01T00:00:00",
          "2020-09-01T00:00:00",
          "2020-10-01T00:00:00",
          "2020-11-01T00:00:00",
          "2020-12-01T00:00:00",
          "2021-01-01T00:00:00",
          "2021-02-01T00:00:00",
          "2021-03-01T00:00:00",
          "2021-04-01T00:00:00",
          "2021-05-01T00:00:00",
          "2021-06-01T00:00:00",
          "2021-07-01T00:00:00",
          "2021-08-01T00:00:00",
          "2021-09-01T00:00:00",
          "2021-10-01T00:00:00",
          "2021-11-01T00:00:00",
          "2021-12-01T00:00:00",
          "2022-01-01T00:00:00",
          "2022-02-01T00:00:00",
          "2022-03-01T00:00:00",
          "2022-04-01T00:00:00",
          "2022-05-01T00:00:00",
          "2022-06-01T00:00:00",
          "2022-07-01T00:00:00",
          "2022-08-01T00:00:00",
          "2022-09-01T00:00:00",
          "2022-10-01T00:00:00",
          "2022-11-01T00:00:00",
          "2022-12-01T00:00:00",
          "2023-01-01T00:00:00",
          "2023-02-01T00:00:00",
          "2023-03-01T00:00:00",
          "2023-04-01T00:00:00",
          "2023-05-01T00:00:00",
          "2023-06-01T00:00:00",
          "2023-07-01T00:00:00",
          "2023-08-01T00:00:00",
          "2023-09-01T00:00:00",
          "2023-10-01T00:00:00",
          "2023-11-01T00:00:00",
          "2023-12-01T00:00:00"
         ],
         "y": [
          0.09441929141219182,
          0.09396163638609613,
          0.0934887261924639,
          0.0930310711663682,
          0.09255816097273598,
          0.09208525077910376,
          0.09162759575300806,
          0.09115468555937584,
          0.09069703053328014,
          0.09022412033964791,
          0.0897512101460157,
          0.08932406545499304,
          0.08885115526136082,
          0.08839350023526513,
          0.0879205900416329,
          0.0874629350155372,
          0.08699002482190497,
          0.08651711462827276,
          0.08605945960217706,
          0.08558654940854483,
          0.08512889438244914,
          0.08465598418881691,
          0.0841830739951847,
          0.08375592930416204,
          0.08328301911052982,
          0.08282536408443411,
          0.0823524538908019,
          0.0818947988647062,
          0.08142188867107397,
          0.08094897847744176,
          0.08049132345134605,
          0.08001841325771383,
          0.07956075823161812,
          0.07908784803798591,
          0.0786149378443537,
          0.07817253798579452,
          0.07769962779216229,
          0.07724197276606659,
          0.07676906257243436,
          0.07631140754633867,
          0.07583849735270645,
          0.07536558715907422,
          0.07490793213297853,
          0.0744350219393463,
          0.0739773669132506,
          0.07350445671961839,
          0.07303154652598616,
          0.0726044018349635,
          0.07213149164133129,
          0.07167383661523558,
          0.07120092642160336,
          0.07074327139550766,
          0.07027036120187544,
          0.06979745100824322,
          0.06933979598214751,
          0.0688668857885153,
          0.0684092307624196,
          0.06793632056878737,
          0.06746341037515516,
          0.0670362656841325,
          0.06656335549050027,
          0.06610570046440459,
          0.06563279027077236,
          0.06517513524467666,
          0.06470222505104443,
          0.0642293148574122,
          0.06377165983131651,
          0.0632987496376843,
          0.0628410946115886,
          0.06236818441795637,
          0.06189527422432415,
          0.0614681295333015,
          0.060995219339669275,
          0.06053756431357357,
          0.06006465411994135,
          0.059606999093845654,
          0.05913408890021343,
          0.05866117870658121,
          0.05820352368048551,
          0.05773061348685329,
          0.05727295846075759,
          0.05680004826712537,
          0.05632713807349314,
          0.05588473821493397,
          0.05541182802130175,
          0.054954172995206045,
          0.054481262801573824,
          0.05402360777547813,
          0.053550697581845906,
          0.05307778738821368,
          0.05262013236211798,
          0.05214722216848576,
          0.051689567142390064,
          0.051216656948757835,
          0.050743746755125614,
          0.05031660206410296,
          0.04984369187047074,
          0.04938603684437504,
          0.04891312665074282,
          0.04845547162464712,
          0.0479825614310149,
          0.047509651237382676,
          0.04705199621128698,
          0.04657908601765475,
          0.046121430991559055,
          0.045648520797926834,
          0.04517561060429461,
          0.04474846591327196,
          0.04427555571963974,
          0.043817900693544035,
          0.04334499049991181,
          0.04288733547381612,
          0.042414425280183896,
          0.041941515086551674,
          0.04148386006045597,
          0.04101094986682375,
          0.04055329484072805,
          0.04008038464709583,
          0.039607474453463604,
          0.03918032976244096,
          0.03870741956880873,
          0.03824976454271303,
          0.03777685434908081,
          0.03731919932298511,
          0.03684628912935289,
          0.036373378935720665,
          0.03591572390962497,
          0.03544281371599275,
          0.034985158689897045
         ]
        }
       ],
       "layout": {
        "legend": {
         "x": 0.01,
         "y": 0.99
        },
        "margin": {
         "b": 60,
         "l": 60,
         "r": 40,
         "t": 60
        },
        "template": {
         "data": {
          "bar": [
           {
            "error_x": {
             "color": "#2a3f5f"
            },
            "error_y": {
             "color": "#2a3f5f"
            },
            "marker": {
             "line": {
              "color": "#E5ECF6",
              "width": 0.5
             },
             "pattern": {
              "fillmode": "overlay",
              "size": 10,
              "solidity": 0.2
             }
            },
            "type": "bar"
           }
          ],
          "barpolar": [
           {
            "marker": {
             "line": {
              "color": "#E5ECF6",
              "width": 0.5
             },
             "pattern": {
              "fillmode": "overlay",
              "size": 10,
              "solidity": 0.2
             }
            },
            "type": "barpolar"
           }
          ],
          "carpet": [
           {
            "aaxis": {
             "endlinecolor": "#2a3f5f",
             "gridcolor": "white",
             "linecolor": "white",
             "minorgridcolor": "white",
             "startlinecolor": "#2a3f5f"
            },
            "baxis": {
             "endlinecolor": "#2a3f5f",
             "gridcolor": "white",
             "linecolor": "white",
             "minorgridcolor": "white",
             "startlinecolor": "#2a3f5f"
            },
            "type": "carpet"
           }
          ],
          "choropleth": [
           {
            "colorbar": {
             "outlinewidth": 0,
             "ticks": ""
            },
            "type": "choropleth"
           }
          ],
          "contour": [
           {
            "colorbar": {
             "outlinewidth": 0,
             "ticks": ""
            },
            "colorscale": [
             [
              0,
              "#0d0887"
             ],
             [
              0.1111111111111111,
              "#46039f"
             ],
             [
              0.2222222222222222,
              "#7201a8"
             ],
             [
              0.3333333333333333,
              "#9c179e"
             ],
             [
              0.4444444444444444,
              "#bd3786"
             ],
             [
              0.5555555555555556,
              "#d8576b"
             ],
             [
              0.6666666666666666,
              "#ed7953"
             ],
             [
              0.7777777777777778,
              "#fb9f3a"
             ],
             [
              0.8888888888888888,
              "#fdca26"
             ],
             [
              1,
              "#f0f921"
             ]
            ],
            "type": "contour"
           }
          ],
          "contourcarpet": [
           {
            "colorbar": {
             "outlinewidth": 0,
             "ticks": ""
            },
            "type": "contourcarpet"
           }
          ],
          "heatmap": [
           {
            "colorbar": {
             "outlinewidth": 0,
             "ticks": ""
            },
            "colorscale": [
             [
              0,
              "#0d0887"
             ],
             [
              0.1111111111111111,
              "#46039f"
             ],
             [
              0.2222222222222222,
              "#7201a8"
             ],
             [
              0.3333333333333333,
              "#9c179e"
             ],
             [
              0.4444444444444444,
              "#bd3786"
             ],
             [
              0.5555555555555556,
              "#d8576b"
             ],
             [
              0.6666666666666666,
              "#ed7953"
             ],
             [
              0.7777777777777778,
              "#fb9f3a"
             ],
             [
              0.8888888888888888,
              "#fdca26"
             ],
             [
              1,
              "#f0f921"
             ]
            ],
            "type": "heatmap"
           }
          ],
          "heatmapgl": [
           {
            "colorbar": {
             "outlinewidth": 0,
             "ticks": ""
            },
            "colorscale": [
             [
              0,
              "#0d0887"
             ],
             [
              0.1111111111111111,
              "#46039f"
             ],
             [
              0.2222222222222222,
              "#7201a8"
             ],
             [
              0.3333333333333333,
              "#9c179e"
             ],
             [
              0.4444444444444444,
              "#bd3786"
             ],
             [
              0.5555555555555556,
              "#d8576b"
             ],
             [
              0.6666666666666666,
              "#ed7953"
             ],
             [
              0.7777777777777778,
              "#fb9f3a"
             ],
             [
              0.8888888888888888,
              "#fdca26"
             ],
             [
              1,
              "#f0f921"
             ]
            ],
            "type": "heatmapgl"
           }
          ],
          "histogram": [
           {
            "marker": {
             "pattern": {
              "fillmode": "overlay",
              "size": 10,
              "solidity": 0.2
             }
            },
            "type": "histogram"
           }
          ],
          "histogram2d": [
           {
            "colorbar": {
             "outlinewidth": 0,
             "ticks": ""
            },
            "colorscale": [
             [
              0,
              "#0d0887"
             ],
             [
              0.1111111111111111,
              "#46039f"
             ],
             [
              0.2222222222222222,
              "#7201a8"
             ],
             [
              0.3333333333333333,
              "#9c179e"
             ],
             [
              0.4444444444444444,
              "#bd3786"
             ],
             [
              0.5555555555555556,
              "#d8576b"
             ],
             [
              0.6666666666666666,
              "#ed7953"
             ],
             [
              0.7777777777777778,
              "#fb9f3a"
             ],
             [
              0.8888888888888888,
              "#fdca26"
             ],
             [
              1,
              "#f0f921"
             ]
            ],
            "type": "histogram2d"
           }
          ],
          "histogram2dcontour": [
           {
            "colorbar": {
             "outlinewidth": 0,
             "ticks": ""
            },
            "colorscale": [
             [
              0,
              "#0d0887"
             ],
             [
              0.1111111111111111,
              "#46039f"
             ],
             [
              0.2222222222222222,
              "#7201a8"
             ],
             [
              0.3333333333333333,
              "#9c179e"
             ],
             [
              0.4444444444444444,
              "#bd3786"
             ],
             [
              0.5555555555555556,
              "#d8576b"
             ],
             [
              0.6666666666666666,
              "#ed7953"
             ],
             [
              0.7777777777777778,
              "#fb9f3a"
             ],
             [
              0.8888888888888888,
              "#fdca26"
             ],
             [
              1,
              "#f0f921"
             ]
            ],
            "type": "histogram2dcontour"
           }
          ],
          "mesh3d": [
           {
            "colorbar": {
             "outlinewidth": 0,
             "ticks": ""
            },
            "type": "mesh3d"
           }
          ],
          "parcoords": [
           {
            "line": {
             "colorbar": {
              "outlinewidth": 0,
              "ticks": ""
             }
            },
            "type": "parcoords"
           }
          ],
          "pie": [
           {
            "automargin": true,
            "type": "pie"
           }
          ],
          "scatter": [
           {
            "fillpattern": {
             "fillmode": "overlay",
             "size": 10,
             "solidity": 0.2
            },
            "type": "scatter"
           }
          ],
          "scatter3d": [
           {
            "line": {
             "colorbar": {
              "outlinewidth": 0,
              "ticks": ""
             }
            },
            "marker": {
             "colorbar": {
              "outlinewidth": 0,
              "ticks": ""
             }
            },
            "type": "scatter3d"
           }
          ],
          "scattercarpet": [
           {
            "marker": {
             "colorbar": {
              "outlinewidth": 0,
              "ticks": ""
             }
            },
            "type": "scattercarpet"
           }
          ],
          "scattergeo": [
           {
            "marker": {
             "colorbar": {
              "outlinewidth": 0,
              "ticks": ""
             }
            },
            "type": "scattergeo"
           }
          ],
          "scattergl": [
           {
            "marker": {
             "colorbar": {
              "outlinewidth": 0,
              "ticks": ""
             }
            },
            "type": "scattergl"
           }
          ],
          "scattermapbox": [
           {
            "marker": {
             "colorbar": {
              "outlinewidth": 0,
              "ticks": ""
             }
            },
            "type": "scattermapbox"
           }
          ],
          "scatterpolar": [
           {
            "marker": {
             "colorbar": {
              "outlinewidth": 0,
              "ticks": ""
             }
            },
            "type": "scatterpolar"
           }
          ],
          "scatterpolargl": [
           {
            "marker": {
             "colorbar": {
              "outlinewidth": 0,
              "ticks": ""
             }
            },
            "type": "scatterpolargl"
           }
          ],
          "scatterternary": [
           {
            "marker": {
             "colorbar": {
              "outlinewidth": 0,
              "ticks": ""
             }
            },
            "type": "scatterternary"
           }
          ],
          "surface": [
           {
            "colorbar": {
             "outlinewidth": 0,
             "ticks": ""
            },
            "colorscale": [
             [
              0,
              "#0d0887"
             ],
             [
              0.1111111111111111,
              "#46039f"
             ],
             [
              0.2222222222222222,
              "#7201a8"
             ],
             [
              0.3333333333333333,
              "#9c179e"
             ],
             [
              0.4444444444444444,
              "#bd3786"
             ],
             [
              0.5555555555555556,
              "#d8576b"
             ],
             [
              0.6666666666666666,
              "#ed7953"
             ],
             [
              0.7777777777777778,
              "#fb9f3a"
             ],
             [
              0.8888888888888888,
              "#fdca26"
             ],
             [
              1,
              "#f0f921"
             ]
            ],
            "type": "surface"
           }
          ],
          "table": [
           {
            "cells": {
             "fill": {
              "color": "#EBF0F8"
             },
             "line": {
              "color": "white"
             }
            },
            "header": {
             "fill": {
              "color": "#C8D4E3"
             },
             "line": {
              "color": "white"
             }
            },
            "type": "table"
           }
          ]
         },
         "layout": {
          "annotationdefaults": {
           "arrowcolor": "#2a3f5f",
           "arrowhead": 0,
           "arrowwidth": 1
          },
          "autotypenumbers": "strict",
          "coloraxis": {
           "colorbar": {
            "outlinewidth": 0,
            "ticks": ""
           }
          },
          "colorscale": {
           "diverging": [
            [
             0,
             "#8e0152"
            ],
            [
             0.1,
             "#c51b7d"
            ],
            [
             0.2,
             "#de77ae"
            ],
            [
             0.3,
             "#f1b6da"
            ],
            [
             0.4,
             "#fde0ef"
            ],
            [
             0.5,
             "#f7f7f7"
            ],
            [
             0.6,
             "#e6f5d0"
            ],
            [
             0.7,
             "#b8e186"
            ],
            [
             0.8,
             "#7fbc41"
            ],
            [
             0.9,
             "#4d9221"
            ],
            [
             1,
             "#276419"
            ]
           ],
           "sequential": [
            [
             0,
             "#0d0887"
            ],
            [
             0.1111111111111111,
             "#46039f"
            ],
            [
             0.2222222222222222,
             "#7201a8"
            ],
            [
             0.3333333333333333,
             "#9c179e"
            ],
            [
             0.4444444444444444,
             "#bd3786"
            ],
            [
             0.5555555555555556,
             "#d8576b"
            ],
            [
             0.6666666666666666,
             "#ed7953"
            ],
            [
             0.7777777777777778,
             "#fb9f3a"
            ],
            [
             0.8888888888888888,
             "#fdca26"
            ],
            [
             1,
             "#f0f921"
            ]
           ],
           "sequentialminus": [
            [
             0,
             "#0d0887"
            ],
            [
             0.1111111111111111,
             "#46039f"
            ],
            [
             0.2222222222222222,
             "#7201a8"
            ],
            [
             0.3333333333333333,
             "#9c179e"
            ],
            [
             0.4444444444444444,
             "#bd3786"
            ],
            [
             0.5555555555555556,
             "#d8576b"
            ],
            [
             0.6666666666666666,
             "#ed7953"
            ],
            [
             0.7777777777777778,
             "#fb9f3a"
            ],
            [
             0.8888888888888888,
             "#fdca26"
            ],
            [
             1,
             "#f0f921"
            ]
           ]
          },
          "colorway": [
           "#636efa",
           "#EF553B",
           "#00cc96",
           "#ab63fa",
           "#FFA15A",
           "#19d3f3",
           "#FF6692",
           "#B6E880",
           "#FF97FF",
           "#FECB52"
          ],
          "font": {
           "color": "#2a3f5f"
          },
          "geo": {
           "bgcolor": "white",
           "lakecolor": "white",
           "landcolor": "#E5ECF6",
           "showlakes": true,
           "showland": true,
           "subunitcolor": "white"
          },
          "hoverlabel": {
           "align": "left"
          },
          "hovermode": "closest",
          "mapbox": {
           "style": "light"
          },
          "paper_bgcolor": "white",
          "plot_bgcolor": "#E5ECF6",
          "polar": {
           "angularaxis": {
            "gridcolor": "white",
            "linecolor": "white",
            "ticks": ""
           },
           "bgcolor": "#E5ECF6",
           "radialaxis": {
            "gridcolor": "white",
            "linecolor": "white",
            "ticks": ""
           }
          },
          "scene": {
           "xaxis": {
            "backgroundcolor": "#E5ECF6",
            "gridcolor": "white",
            "gridwidth": 2,
            "linecolor": "white",
            "showbackground": true,
            "ticks": "",
            "zerolinecolor": "white"
           },
           "yaxis": {
            "backgroundcolor": "#E5ECF6",
            "gridcolor": "white",
            "gridwidth": 2,
            "linecolor": "white",
            "showbackground": true,
            "ticks": "",
            "zerolinecolor": "white"
           },
           "zaxis": {
            "backgroundcolor": "#E5ECF6",
            "gridcolor": "white",
            "gridwidth": 2,
            "linecolor": "white",
            "showbackground": true,
            "ticks": "",
            "zerolinecolor": "white"
           }
          },
          "shapedefaults": {
           "line": {
            "color": "#2a3f5f"
           }
          },
          "ternary": {
           "aaxis": {
            "gridcolor": "white",
            "linecolor": "white",
            "ticks": ""
           },
           "baxis": {
            "gridcolor": "white",
            "linecolor": "white",
            "ticks": ""
           },
           "bgcolor": "#E5ECF6",
           "caxis": {
            "gridcolor": "white",
            "linecolor": "white",
            "ticks": ""
           }
          },
          "title": {
           "x": 0.05
          },
          "xaxis": {
           "automargin": true,
           "gridcolor": "white",
           "linecolor": "white",
           "ticks": "",
           "title": {
            "standoff": 15
           },
           "zerolinecolor": "white",
           "zerolinewidth": 2
          },
          "yaxis": {
           "automargin": true,
           "gridcolor": "white",
           "linecolor": "white",
           "ticks": "",
           "title": {
            "standoff": 15
           },
           "zerolinecolor": "white",
           "zerolinewidth": 2
          }
         }
        },
        "title": {
         "text": "HLS Derived NDVI 2013 - 2023"
        },
        "xaxis": {
         "dtick": "M6",
         "tickformat": "%Y-%m",
         "title": {
          "text": "Date"
         }
        },
        "yaxis": {
         "title": {
          "text": "Value (units)"
         }
        }
       }
      }
     },
     "metadata": {},
     "output_type": "display_data"
    }
   ],
   "source": [
    "plot_multiple_timeseries_with_trendlines_plotly(\n",
    "    df_list=[hls_l30_ndvi_timeseries],\n",
    "    date_col='date',\n",
    "    value_col='NDVI',\n",
    "    labels=['HLS NDVI'],\n",
    "    x_interval_months=6,\n",
    "    title='HLS Derived NDVI 2013 - 2023',\n",
    "    ylabel='Value (units)'\n",
    ")"
   ]
  },
  {
   "cell_type": "markdown",
   "metadata": {},
   "source": [
    "# Determine if Trend is Statistically Significant"
   ]
  },
  {
   "cell_type": "markdown",
   "metadata": {},
   "source": [
    "# Display NDVI Year to Year"
   ]
  },
  {
   "cell_type": "code",
   "execution_count": 97,
   "metadata": {},
   "outputs": [
    {
     "data": {
      "text/html": [
       "\n",
       "            <style>\n",
       "                .geemap-dark {\n",
       "                    --jp-widgets-color: white;\n",
       "                    --jp-widgets-label-color: white;\n",
       "                    --jp-ui-font-color1: white;\n",
       "                    --jp-layout-color2: #454545;\n",
       "                    background-color: #383838;\n",
       "                }\n",
       "\n",
       "                .geemap-dark .jupyter-button {\n",
       "                    --jp-layout-color3: #383838;\n",
       "                }\n",
       "\n",
       "                .geemap-colab {\n",
       "                    background-color: var(--colab-primary-surface-color, white);\n",
       "                }\n",
       "\n",
       "                .geemap-colab .jupyter-button {\n",
       "                    --jp-layout-color3: var(--colab-primary-surface-color, white);\n",
       "                }\n",
       "            </style>\n",
       "            "
      ],
      "text/plain": [
       "<IPython.core.display.HTML object>"
      ]
     },
     "metadata": {},
     "output_type": "display_data"
    }
   ],
   "source": [
    "def monthly_ndvi_image(collection, band, year, month):\n",
    "    start_date = ee.Date.fromYMD(year, month, 1)\n",
    "    end_date = start_date.advance(1, 'month')\n",
    "\n",
    "    return (collection\n",
    "            .filterDate(start_date, end_date)\n",
    "            # Additional filtering for clouds, if you like\n",
    "            .select(band)\n",
    "            .mean()\n",
    "            .rename(f'{band}_{year}_{month}'))"
   ]
  },
  {
   "cell_type": "code",
   "execution_count": 98,
   "metadata": {},
   "outputs": [
    {
     "data": {
      "text/html": [
       "\n",
       "            <style>\n",
       "                .geemap-dark {\n",
       "                    --jp-widgets-color: white;\n",
       "                    --jp-widgets-label-color: white;\n",
       "                    --jp-ui-font-color1: white;\n",
       "                    --jp-layout-color2: #454545;\n",
       "                    background-color: #383838;\n",
       "                }\n",
       "\n",
       "                .geemap-dark .jupyter-button {\n",
       "                    --jp-layout-color3: #383838;\n",
       "                }\n",
       "\n",
       "                .geemap-colab {\n",
       "                    background-color: var(--colab-primary-surface-color, white);\n",
       "                }\n",
       "\n",
       "                .geemap-colab .jupyter-button {\n",
       "                    --jp-layout-color3: var(--colab-primary-surface-color, white);\n",
       "                }\n",
       "            </style>\n",
       "            "
      ],
      "text/plain": [
       "<IPython.core.display.HTML object>"
      ]
     },
     "metadata": {},
     "output_type": "display_data"
    }
   ],
   "source": [
    "# June early NDVI\n",
    "hls_ndvi_june_2013 = monthly_ndvi_image(hls_l30_with_ndvi, 'NDVI', 2013, 6)\n",
    "\n",
    "# June 2023 NDVI\n",
    "hls_ndvi_june_2023 = monthly_ndvi_image(hls_l30_with_ndvi, 'NDVI', 2023, 6)\n",
    "\n",
    "# December early NDVI\n",
    "hls_ndvi_dec_2013 = monthly_ndvi_image(hls_l30_with_ndvi, 'NDVI', 2013, 12)\n",
    "\n",
    "# December 2023 NDVI\n",
    "hls_ndvi_dec_2023 = monthly_ndvi_image(hls_l30_with_ndvi, 'NDVI', 2023, 12)\n"
   ]
  },
  {
   "cell_type": "code",
   "execution_count": 99,
   "metadata": {},
   "outputs": [
    {
     "data": {
      "text/html": [
       "\n",
       "            <style>\n",
       "                .geemap-dark {\n",
       "                    --jp-widgets-color: white;\n",
       "                    --jp-widgets-label-color: white;\n",
       "                    --jp-ui-font-color1: white;\n",
       "                    --jp-layout-color2: #454545;\n",
       "                    background-color: #383838;\n",
       "                }\n",
       "\n",
       "                .geemap-dark .jupyter-button {\n",
       "                    --jp-layout-color3: #383838;\n",
       "                }\n",
       "\n",
       "                .geemap-colab {\n",
       "                    background-color: var(--colab-primary-surface-color, white);\n",
       "                }\n",
       "\n",
       "                .geemap-colab .jupyter-button {\n",
       "                    --jp-layout-color3: var(--colab-primary-surface-color, white);\n",
       "                }\n",
       "            </style>\n",
       "            "
      ],
      "text/plain": [
       "<IPython.core.display.HTML object>"
      ]
     },
     "metadata": {},
     "output_type": "display_data"
    }
   ],
   "source": [
    "ndvi_vis_params = {\n",
    "    'min': 0,\n",
    "    'max': 1,\n",
    "    'palette': ['brown', 'white', 'green']\n",
    "}"
   ]
  },
  {
   "cell_type": "code",
   "execution_count": 131,
   "metadata": {},
   "outputs": [
    {
     "data": {
      "text/html": [
       "\n",
       "            <style>\n",
       "                .geemap-dark {\n",
       "                    --jp-widgets-color: white;\n",
       "                    --jp-widgets-label-color: white;\n",
       "                    --jp-ui-font-color1: white;\n",
       "                    --jp-layout-color2: #454545;\n",
       "                    background-color: #383838;\n",
       "                }\n",
       "\n",
       "                .geemap-dark .jupyter-button {\n",
       "                    --jp-layout-color3: #383838;\n",
       "                }\n",
       "\n",
       "                .geemap-colab {\n",
       "                    background-color: var(--colab-primary-surface-color, white);\n",
       "                }\n",
       "\n",
       "                .geemap-colab .jupyter-button {\n",
       "                    --jp-layout-color3: var(--colab-primary-surface-color, white);\n",
       "                }\n",
       "            </style>\n",
       "            "
      ],
      "text/plain": [
       "<IPython.core.display.HTML object>"
      ]
     },
     "metadata": {},
     "output_type": "display_data"
    },
    {
     "data": {
      "text/html": [
       "<iframe srcdoc=\"&lt;!DOCTYPE html&gt;\n",
       "&lt;html&gt;\n",
       "&lt;head&gt;\n",
       "    \n",
       "    &lt;meta http-equiv=&quot;content-type&quot; content=&quot;text/html; charset=UTF-8&quot; /&gt;\n",
       "    \n",
       "        &lt;script&gt;\n",
       "            L_NO_TOUCH = false;\n",
       "            L_DISABLE_3D = false;\n",
       "        &lt;/script&gt;\n",
       "    \n",
       "    &lt;style&gt;html, body {width: 100%;height: 100%;margin: 0;padding: 0;}&lt;/style&gt;\n",
       "    &lt;style&gt;#map {position:absolute;top:0;bottom:0;right:0;left:0;}&lt;/style&gt;\n",
       "    &lt;script src=&quot;https://cdn.jsdelivr.net/npm/leaflet@1.9.3/dist/leaflet.js&quot;&gt;&lt;/script&gt;\n",
       "    &lt;script src=&quot;https://code.jquery.com/jquery-3.7.1.min.js&quot;&gt;&lt;/script&gt;\n",
       "    &lt;script src=&quot;https://cdn.jsdelivr.net/npm/bootstrap@5.2.2/dist/js/bootstrap.bundle.min.js&quot;&gt;&lt;/script&gt;\n",
       "    &lt;script src=&quot;https://cdnjs.cloudflare.com/ajax/libs/Leaflet.awesome-markers/2.0.2/leaflet.awesome-markers.js&quot;&gt;&lt;/script&gt;\n",
       "    &lt;link rel=&quot;stylesheet&quot; href=&quot;https://cdn.jsdelivr.net/npm/leaflet@1.9.3/dist/leaflet.css&quot;/&gt;\n",
       "    &lt;link rel=&quot;stylesheet&quot; href=&quot;https://cdn.jsdelivr.net/npm/bootstrap@5.2.2/dist/css/bootstrap.min.css&quot;/&gt;\n",
       "    &lt;link rel=&quot;stylesheet&quot; href=&quot;https://netdna.bootstrapcdn.com/bootstrap/3.0.0/css/bootstrap-glyphicons.css&quot;/&gt;\n",
       "    &lt;link rel=&quot;stylesheet&quot; href=&quot;https://cdn.jsdelivr.net/npm/@fortawesome/fontawesome-free@6.2.0/css/all.min.css&quot;/&gt;\n",
       "    &lt;link rel=&quot;stylesheet&quot; href=&quot;https://cdnjs.cloudflare.com/ajax/libs/Leaflet.awesome-markers/2.0.2/leaflet.awesome-markers.css&quot;/&gt;\n",
       "    &lt;link rel=&quot;stylesheet&quot; href=&quot;https://cdn.jsdelivr.net/gh/python-visualization/folium/folium/templates/leaflet.awesome.rotate.min.css&quot;/&gt;\n",
       "    \n",
       "            &lt;meta name=&quot;viewport&quot; content=&quot;width=device-width,\n",
       "                initial-scale=1.0, maximum-scale=1.0, user-scalable=no&quot; /&gt;\n",
       "            &lt;style&gt;\n",
       "                #map_d5edb37930ad5dd7a455cdfa9e017ecb {\n",
       "                    position: relative;\n",
       "                    width: 100.0%;\n",
       "                    height: 100.0%;\n",
       "                    left: 0.0%;\n",
       "                    top: 0.0%;\n",
       "                }\n",
       "                .leaflet-container { font-size: 1rem; }\n",
       "            &lt;/style&gt;\n",
       "        \n",
       "    &lt;script src=&quot;https://cdn.jsdelivr.net/npm/leaflet.fullscreen@3.0.0/Control.FullScreen.min.js&quot;&gt;&lt;/script&gt;\n",
       "    &lt;link rel=&quot;stylesheet&quot; href=&quot;https://cdn.jsdelivr.net/npm/leaflet.fullscreen@3.0.0/Control.FullScreen.css&quot;/&gt;\n",
       "    &lt;script src=&quot;https://cdnjs.cloudflare.com/ajax/libs/leaflet.draw/1.0.2/leaflet.draw.js&quot;&gt;&lt;/script&gt;\n",
       "    &lt;link rel=&quot;stylesheet&quot; href=&quot;https://cdnjs.cloudflare.com/ajax/libs/leaflet.draw/1.0.2/leaflet.draw.css&quot;/&gt;\n",
       "    &lt;script src=&quot;https://unpkg.com/leaflet-control-geocoder/dist/Control.Geocoder.js&quot;&gt;&lt;/script&gt;\n",
       "    &lt;link rel=&quot;stylesheet&quot; href=&quot;https://unpkg.com/leaflet-control-geocoder/dist/Control.Geocoder.css&quot;/&gt;\n",
       "    &lt;script src=&quot;https://cdn.jsdelivr.net/gh/digidem/leaflet-side-by-side@2.0.0/leaflet-side-by-side.min.js&quot;&gt;&lt;/script&gt;\n",
       "&lt;/head&gt;\n",
       "&lt;body&gt;\n",
       "    \n",
       "    \n",
       "            &lt;div class=&quot;folium-map&quot; id=&quot;map_d5edb37930ad5dd7a455cdfa9e017ecb&quot; &gt;&lt;/div&gt;\n",
       "        \n",
       "&lt;/body&gt;\n",
       "&lt;script&gt;\n",
       "    \n",
       "    \n",
       "            var map_d5edb37930ad5dd7a455cdfa9e017ecb = L.map(\n",
       "                &quot;map_d5edb37930ad5dd7a455cdfa9e017ecb&quot;,\n",
       "                {\n",
       "                    center: [24.1422222, -110.3166667],\n",
       "                    crs: L.CRS.EPSG3857,\n",
       "                    ...{\n",
       "  &quot;zoom&quot;: 12,\n",
       "  &quot;zoomControl&quot;: true,\n",
       "  &quot;preferCanvas&quot;: false,\n",
       "  &quot;eeInitialize&quot;: true,\n",
       "  &quot;addGoogleMap&quot;: false,\n",
       "  &quot;pluginLatlngpopup&quot;: false,\n",
       "  &quot;pluginFullscreen&quot;: true,\n",
       "  &quot;pluginDraw&quot;: true,\n",
       "  &quot;DrawExport&quot;: false,\n",
       "  &quot;pluginMinimap&quot;: false,\n",
       "  &quot;locateControl&quot;: false,\n",
       "  &quot;searchControl&quot;: true,\n",
       "  &quot;layersControl&quot;: true,\n",
       "}\n",
       "\n",
       "                }\n",
       "            );\n",
       "\n",
       "            \n",
       "\n",
       "        \n",
       "    \n",
       "            var tile_layer_b4fcce000da664c4bfb099fc995ead9b = L.tileLayer(\n",
       "                &quot;https://tile.openstreetmap.org/{z}/{x}/{y}.png&quot;,\n",
       "                {\n",
       "  &quot;minZoom&quot;: 0,\n",
       "  &quot;maxZoom&quot;: 30,\n",
       "  &quot;maxNativeZoom&quot;: 30,\n",
       "  &quot;noWrap&quot;: false,\n",
       "  &quot;attribution&quot;: &quot;\\u0026copy; \\u003ca href=\\&quot;https://www.openstreetmap.org/copyright\\&quot;\\u003eOpenStreetMap\\u003c/a\\u003e contributors&quot;,\n",
       "  &quot;subdomains&quot;: &quot;abc&quot;,\n",
       "  &quot;detectRetina&quot;: false,\n",
       "  &quot;tms&quot;: false,\n",
       "  &quot;opacity&quot;: 1,\n",
       "}\n",
       "\n",
       "            );\n",
       "        \n",
       "    \n",
       "            tile_layer_b4fcce000da664c4bfb099fc995ead9b.addTo(map_d5edb37930ad5dd7a455cdfa9e017ecb);\n",
       "        \n",
       "    \n",
       "            L.control.fullscreen(\n",
       "                {\n",
       "  &quot;position&quot;: &quot;topleft&quot;,\n",
       "  &quot;title&quot;: &quot;Full Screen&quot;,\n",
       "  &quot;titleCancel&quot;: &quot;Exit Full Screen&quot;,\n",
       "  &quot;forceSeparateButton&quot;: false,\n",
       "}\n",
       "            ).addTo(map_d5edb37930ad5dd7a455cdfa9e017ecb);\n",
       "        \n",
       "    \n",
       "            var options = {\n",
       "              position: &quot;topleft&quot;,\n",
       "              draw: {},\n",
       "              edit: {},\n",
       "            }\n",
       "                // FeatureGroup is to store editable layers.\n",
       "                var drawnItems_draw_control_ed4edde3130c1d0c553ad85e2060e8cb =\n",
       "                    new L.featureGroup().addTo(\n",
       "                        map_d5edb37930ad5dd7a455cdfa9e017ecb\n",
       "                    );\n",
       "\n",
       "            options.edit.featureGroup = drawnItems_draw_control_ed4edde3130c1d0c553ad85e2060e8cb;\n",
       "            var draw_control_ed4edde3130c1d0c553ad85e2060e8cb = new L.Control.Draw(\n",
       "                options\n",
       "            ).addTo( map_d5edb37930ad5dd7a455cdfa9e017ecb );\n",
       "            map_d5edb37930ad5dd7a455cdfa9e017ecb.on(L.Draw.Event.CREATED, function(e) {\n",
       "                var layer = e.layer,\n",
       "                    type = e.layerType;\n",
       "                var coords = JSON.stringify(layer.toGeoJSON());\n",
       "                layer.on(&#x27;click&#x27;, function() {\n",
       "                    alert(coords);\n",
       "                    console.log(coords);\n",
       "                });\n",
       "                drawnItems_draw_control_ed4edde3130c1d0c553ad85e2060e8cb.addLayer(layer);\n",
       "            });\n",
       "            map_d5edb37930ad5dd7a455cdfa9e017ecb.on(&#x27;draw:created&#x27;, function(e) {\n",
       "                drawnItems_draw_control_ed4edde3130c1d0c553ad85e2060e8cb.addLayer(e.layer);\n",
       "            });\n",
       "\n",
       "            \n",
       "        \n",
       "    \n",
       "\n",
       "            var geocoderOpts_geocoder_e6a85e53f45ec3bb8ae6601ab4a49caa = {\n",
       "  &quot;collapsed&quot;: true,\n",
       "  &quot;position&quot;: &quot;topleft&quot;,\n",
       "  &quot;defaultMarkGeocode&quot;: true,\n",
       "  &quot;zoom&quot;: 11,\n",
       "  &quot;provider&quot;: &quot;nominatim&quot;,\n",
       "  &quot;providerOptions&quot;: {\n",
       "},\n",
       "};\n",
       "\n",
       "            // note: geocoder name should start with lowercase\n",
       "            var geocoderName_geocoder_e6a85e53f45ec3bb8ae6601ab4a49caa = geocoderOpts_geocoder_e6a85e53f45ec3bb8ae6601ab4a49caa[&quot;provider&quot;];\n",
       "\n",
       "            var customGeocoder_geocoder_e6a85e53f45ec3bb8ae6601ab4a49caa = L.Control.Geocoder[ geocoderName_geocoder_e6a85e53f45ec3bb8ae6601ab4a49caa ](\n",
       "                geocoderOpts_geocoder_e6a85e53f45ec3bb8ae6601ab4a49caa[&#x27;providerOptions&#x27;]\n",
       "            );\n",
       "            geocoderOpts_geocoder_e6a85e53f45ec3bb8ae6601ab4a49caa[&quot;geocoder&quot;] = customGeocoder_geocoder_e6a85e53f45ec3bb8ae6601ab4a49caa;\n",
       "\n",
       "            L.Control.geocoder(\n",
       "                geocoderOpts_geocoder_e6a85e53f45ec3bb8ae6601ab4a49caa\n",
       "            ).on(&#x27;markgeocode&#x27;, function(e) {\n",
       "                var zoom = geocoderOpts_geocoder_e6a85e53f45ec3bb8ae6601ab4a49caa[&#x27;zoom&#x27;] || map_d5edb37930ad5dd7a455cdfa9e017ecb.getZoom();\n",
       "                map_d5edb37930ad5dd7a455cdfa9e017ecb.setView(e.geocode.center, zoom);\n",
       "            }).addTo(map_d5edb37930ad5dd7a455cdfa9e017ecb);\n",
       "\n",
       "        \n",
       "    \n",
       "            map_d5edb37930ad5dd7a455cdfa9e017ecb.fitBounds(\n",
       "                [[24.1422222, -110.3166667], [24.1422222, -110.3166667]],\n",
       "                {&quot;maxZoom&quot;: 12}\n",
       "            );\n",
       "        \n",
       "    \n",
       "            var tile_layer_a3d61653979b1df9fbffbf1571f721a3 = L.tileLayer(\n",
       "                &quot;https://earthengine.googleapis.com/v1/projects/ee-alextruby15/maps/31029c48af393245510727bc8437aa23-2c22e4ced831eb10196735adc9db6afc/tiles/{z}/{x}/{y}&quot;,\n",
       "                {\n",
       "  &quot;minZoom&quot;: 0,\n",
       "  &quot;maxZoom&quot;: 24,\n",
       "  &quot;maxNativeZoom&quot;: 24,\n",
       "  &quot;noWrap&quot;: false,\n",
       "  &quot;attribution&quot;: &quot;Google Earth Engine&quot;,\n",
       "  &quot;subdomains&quot;: &quot;abc&quot;,\n",
       "  &quot;detectRetina&quot;: false,\n",
       "  &quot;tms&quot;: false,\n",
       "  &quot;opacity&quot;: 1.0,\n",
       "}\n",
       "\n",
       "            );\n",
       "        \n",
       "    \n",
       "            tile_layer_a3d61653979b1df9fbffbf1571f721a3.addTo(map_d5edb37930ad5dd7a455cdfa9e017ecb);\n",
       "        \n",
       "    \n",
       "            var tile_layer_131b23e1d29ffabd63a171332d3ede47 = L.tileLayer(\n",
       "                &quot;https://earthengine.googleapis.com/v1/projects/ee-alextruby15/maps/ffc72295133d70d736a50550367c1c46-2a851d2fa9aeef0b9609500e3f3b0232/tiles/{z}/{x}/{y}&quot;,\n",
       "                {\n",
       "  &quot;minZoom&quot;: 0,\n",
       "  &quot;maxZoom&quot;: 24,\n",
       "  &quot;maxNativeZoom&quot;: 24,\n",
       "  &quot;noWrap&quot;: false,\n",
       "  &quot;attribution&quot;: &quot;Google Earth Engine&quot;,\n",
       "  &quot;subdomains&quot;: &quot;abc&quot;,\n",
       "  &quot;detectRetina&quot;: false,\n",
       "  &quot;tms&quot;: false,\n",
       "  &quot;opacity&quot;: 1.0,\n",
       "}\n",
       "\n",
       "            );\n",
       "        \n",
       "    \n",
       "            tile_layer_131b23e1d29ffabd63a171332d3ede47.addTo(map_d5edb37930ad5dd7a455cdfa9e017ecb);\n",
       "        \n",
       "    \n",
       "            var side_by_side_layers_5c71468502da33e7c3472549152f6f56 = L.control.sideBySide(\n",
       "                tile_layer_a3d61653979b1df9fbffbf1571f721a3, tile_layer_131b23e1d29ffabd63a171332d3ede47\n",
       "            ).addTo(map_d5edb37930ad5dd7a455cdfa9e017ecb);\n",
       "        \n",
       "    \n",
       "            var layer_control_6381f185bd4dad45f362fc3b47d46fb7_layers = {\n",
       "                base_layers : {\n",
       "                    &quot;openstreetmap&quot; : tile_layer_b4fcce000da664c4bfb099fc995ead9b,\n",
       "                },\n",
       "                overlays :  {\n",
       "                    &quot;VIIRS 2013&quot; : tile_layer_a3d61653979b1df9fbffbf1571f721a3,\n",
       "                    &quot;VIIRS 2023&quot; : tile_layer_131b23e1d29ffabd63a171332d3ede47,\n",
       "                },\n",
       "            };\n",
       "            let layer_control_6381f185bd4dad45f362fc3b47d46fb7 = L.control.layers(\n",
       "                layer_control_6381f185bd4dad45f362fc3b47d46fb7_layers.base_layers,\n",
       "                layer_control_6381f185bd4dad45f362fc3b47d46fb7_layers.overlays,\n",
       "                {\n",
       "  &quot;position&quot;: &quot;topright&quot;,\n",
       "  &quot;collapsed&quot;: true,\n",
       "  &quot;autoZIndex&quot;: true,\n",
       "}\n",
       "            ).addTo(map_d5edb37930ad5dd7a455cdfa9e017ecb);\n",
       "\n",
       "        \n",
       "&lt;/script&gt;\n",
       "&lt;/html&gt;\" width=\"100%\" height=\"600\"style=\"border:none !important;\" \"allowfullscreen\" \"webkitallowfullscreen\" \"mozallowfullscreen\"></iframe>"
      ],
      "text/plain": [
       "<geemap.foliumap.Map at 0x1196d9c50>"
      ]
     },
     "execution_count": 131,
     "metadata": {},
     "output_type": "execute_result"
    }
   ],
   "source": [
    "Map = geemap.Map(center=[24.1422222, -110.3166667], zoom=12)\n",
    "\n",
    "# Create Tile Layers for 2013 and 2023 VIIRS Composites\n",
    "left_layer_viirs = geemap.ee_tile_layer(hls_ndvi_june_2013, ndvi_vis_params, 'VIIRS 2013')\n",
    "right_layer_viirs = geemap.ee_tile_layer(hls_ndvi_june_2023, ndvi_vis_params, 'VIIRS 2023')\n",
    "\n",
    "# Add a split map feature\n",
    "Map.split_map(left_layer=left_layer_viirs, right_layer=right_layer_viirs)\n",
    "\n",
    "# Display the map\n",
    "Map"
   ]
  },
  {
   "cell_type": "code",
   "execution_count": 132,
   "metadata": {},
   "outputs": [
    {
     "data": {
      "text/html": [
       "\n",
       "            <style>\n",
       "                .geemap-dark {\n",
       "                    --jp-widgets-color: white;\n",
       "                    --jp-widgets-label-color: white;\n",
       "                    --jp-ui-font-color1: white;\n",
       "                    --jp-layout-color2: #454545;\n",
       "                    background-color: #383838;\n",
       "                }\n",
       "\n",
       "                .geemap-dark .jupyter-button {\n",
       "                    --jp-layout-color3: #383838;\n",
       "                }\n",
       "\n",
       "                .geemap-colab {\n",
       "                    background-color: var(--colab-primary-surface-color, white);\n",
       "                }\n",
       "\n",
       "                .geemap-colab .jupyter-button {\n",
       "                    --jp-layout-color3: var(--colab-primary-surface-color, white);\n",
       "                }\n",
       "            </style>\n",
       "            "
      ],
      "text/plain": [
       "<IPython.core.display.HTML object>"
      ]
     },
     "metadata": {},
     "output_type": "display_data"
    }
   ],
   "source": [
    "# Map.to_html('./../static/html/ndvi_test.html')"
   ]
  },
  {
   "cell_type": "code",
   "execution_count": null,
   "metadata": {},
   "outputs": [],
   "source": [
    "def create_split_viirs_map(output_html, coords, left_layer, right_layer, vis_params):\n",
    "    \"\"\"\n",
    "    Creates a split map with VIIRS composites for 2013 and 2023, adds a legend, \n",
    "    and exports the map as an HTML file for embedding.\n",
    "\n",
    "    Parameters:\n",
    "    - output_html (str): Path to save the output HTML file.\n",
    "    - coords (dict): Dictionary with 'coordinates' key for center of the map [lon, lat].\n",
    "    - viirs_2013_id (str): Earth Engine ID for the 2013 VIIRS composite.\n",
    "    - viirs_2023_id (str): Earth Engine ID for the 2023 VIIRS composite.\n",
    "    - vis_params (dict): Visualization parameters for the VIIRS layers.\n",
    "\n",
    "    Returns:\n",
    "    - None\n",
    "    \"\"\"\n",
    "    # Initialize the Earth Engine API\n",
    "    ee.Initialize()\n",
    "\n",
    "    # Load VIIRS images\n",
    "    viirs_2013 = ee.Image(viirs_2013_id)\n",
    "    viirs_2023 = ee.Image(viirs_2023_id)\n",
    "\n",
    "    # Create an interactive map centered on the specified coordinates\n",
    "    Map = geemap.Map(center=coords['coordinates'][::-1], zoom=12)\n",
    "\n",
    "    # Create Tile Layers for 2013 and 2023 VIIRS Composites\n",
    "    left_layer_viirs = geemap.ee_tile_layer(viirs_2013, vis_params, 'VIIRS 2013')\n",
    "    right_layer_viirs = geemap.ee_tile_layer(viirs_2023, vis_params, 'VIIRS 2023')\n",
    "\n",
    "    # Add split map feature\n",
    "    Map.split_map(left_layer=left_layer_viirs, right_layer=right_layer_viirs)\n",
    "\n",
    "    # Add a legend to the map\n",
    "    legend_dict = {\n",
    "        'Low': 'blue',\n",
    "        'Medium': 'green',\n",
    "        'High': 'red'\n",
    "    }\n",
    "    Map.add_legend(legend_title=\"VIIRS Intensity\", legend_dict=legend_dict)\n"
   ]
  }
 ],
 "metadata": {
  "kernelspec": {
   "display_name": "Python 3",
   "language": "python",
   "name": "python3"
  },
  "language_info": {
   "codemirror_mode": {
    "name": "ipython",
    "version": 3
   },
   "file_extension": ".py",
   "mimetype": "text/x-python",
   "name": "python",
   "nbconvert_exporter": "python",
   "pygments_lexer": "ipython3",
   "version": "3.11.9"
  }
 },
 "nbformat": 4,
 "nbformat_minor": 2
}
